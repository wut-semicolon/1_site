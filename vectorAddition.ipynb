{
  "nbformat": 4,
  "nbformat_minor": 0,
  "metadata": {
    "colab": {
      "provenance": [],
      "gpuType": "T4",
      "authorship_tag": "ABX9TyNotGFO4I2R9YIkyFmu2DE+",
      "include_colab_link": true
    },
    "kernelspec": {
      "name": "python3",
      "display_name": "Python 3"
    },
    "language_info": {
      "name": "python"
    },
    "accelerator": "GPU"
  },
  "cells": [
    {
      "cell_type": "markdown",
      "metadata": {
        "id": "view-in-github",
        "colab_type": "text"
      },
      "source": [
        "<a href=\"https://colab.research.google.com/github/thrishul26/1_site/blob/main/vectorAddition.ipynb\" target=\"_parent\"><img src=\"https://colab.research.google.com/assets/colab-badge.svg\" alt=\"Open In Colab\"/></a>"
      ]
    },
    {
      "cell_type": "code",
      "source": [
        "!pip install git+https://github.com/andreinechaev/nvcc4jupyter.git"
      ],
      "metadata": {
        "colab": {
          "base_uri": "https://localhost:8080/"
        },
        "id": "CA6FN922tNLY",
        "outputId": "10d038d9-cf03-4673-e03a-0a89936c4079"
      },
      "execution_count": 7,
      "outputs": [
        {
          "output_type": "stream",
          "name": "stdout",
          "text": [
            "Collecting git+https://github.com/andreinechaev/nvcc4jupyter.git\n",
            "  Cloning https://github.com/andreinechaev/nvcc4jupyter.git to /tmp/pip-req-build-emuzubry\n",
            "  Running command git clone --filter=blob:none --quiet https://github.com/andreinechaev/nvcc4jupyter.git /tmp/pip-req-build-emuzubry\n",
            "  Resolved https://github.com/andreinechaev/nvcc4jupyter.git to commit 5741c522547756ac4bb7a16df32106a15efb8a57\n",
            "  Installing build dependencies ... \u001b[?25l\u001b[?25hdone\n",
            "  Getting requirements to build wheel ... \u001b[?25l\u001b[?25hdone\n",
            "  Preparing metadata (pyproject.toml) ... \u001b[?25l\u001b[?25hdone\n",
            "Building wheels for collected packages: nvcc4jupyter\n",
            "  Building wheel for nvcc4jupyter (pyproject.toml) ... \u001b[?25l\u001b[?25hdone\n",
            "  Created wheel for nvcc4jupyter: filename=nvcc4jupyter-1.2.1-py3-none-any.whl size=10741 sha256=1c43b610d84440f376c57bb0b3d20f87e2433fdb6f06eb98d5fd7c81c461a971\n",
            "  Stored in directory: /tmp/pip-ephem-wheel-cache-wwv3ik6i/wheels/a8/b9/18/23f8ef71ceb0f63297dd1903aedd067e6243a68ea756d6feea\n",
            "Successfully built nvcc4jupyter\n",
            "Installing collected packages: nvcc4jupyter\n",
            "Successfully installed nvcc4jupyter-1.2.1\n"
          ]
        }
      ]
    },
    {
      "cell_type": "code",
      "source": [
        "pip install nvcc4jupyter"
      ],
      "metadata": {
        "colab": {
          "base_uri": "https://localhost:8080/"
        },
        "id": "FaLQLmD-tP1h",
        "outputId": "fc496aee-af5c-475e-b839-91070571753f"
      },
      "execution_count": 8,
      "outputs": [
        {
          "output_type": "stream",
          "name": "stdout",
          "text": [
            "Requirement already satisfied: nvcc4jupyter in /usr/local/lib/python3.10/dist-packages (1.2.1)\n"
          ]
        }
      ]
    },
    {
      "cell_type": "code",
      "source": [
        "%load_ext nvcc4jupyter"
      ],
      "metadata": {
        "colab": {
          "base_uri": "https://localhost:8080/"
        },
        "id": "ohKIzFyqtUQy",
        "outputId": "13fe5cec-0cd8-402a-87f4-426d127e3170"
      },
      "execution_count": 9,
      "outputs": [
        {
          "output_type": "stream",
          "name": "stdout",
          "text": [
            "Detected platform \"Colab\". Running its setup...\n",
            "Source files will be saved in \"/tmp/tmp70d_3fjz\".\n"
          ]
        }
      ]
    },
    {
      "cell_type": "code",
      "source": [
        "%%cuda\n",
        "#include <stdio.h>\n",
        "#include <stdlib.h>\n",
        "#include <math.h>\n",
        "\n",
        "# // CUDA kernel. Each thread takes care of one element of c\n",
        "__global__ void vecAdd(double *a, double *b, double *c, int n)\n",
        "{\n",
        "    # // Get our global thread ID\n",
        "    int id = blockIdx.x*blockDim.x+threadIdx.x;\n",
        "\n",
        "    # // Make sure we do not go out of bounds\n",
        "    if (id < n)\n",
        "        c[id] = a[id] + b[id];\n",
        "}\n",
        "\n",
        "int main( int argc, char* argv[] )\n",
        "{\n",
        "    # // Size of vectors\n",
        "    int n = 1000000;\n",
        "\n",
        "    # // Host input vectors\n",
        "    double *h_a;\n",
        "    double *h_b;\n",
        "    # //Host output vector\n",
        "    double *h_c;\n",
        "\n",
        "    # // Device input vectors\n",
        "    double *d_a;\n",
        "    double *d_b;\n",
        "    # //Device output vector\n",
        "    double *d_c;\n",
        "\n",
        "    # // Size, in bytes, of each vector\n",
        "    size_t bytes = n*sizeof(double);\n",
        "\n",
        "    # // Allocate memory for each vector on host\n",
        "    h_a = (double*)malloc(bytes);\n",
        "    h_b = (double*)malloc(bytes);\n",
        "    h_c = (double*)malloc(bytes);\n",
        "\n",
        "    # // Allocate memory for each vector on GPU\n",
        "    cudaMalloc(&d_a, bytes);\n",
        "    cudaMalloc(&d_b, bytes);\n",
        "    cudaMalloc(&d_c, bytes);\n",
        "\n",
        "    int i;\n",
        "    # // Initialize vectors on host\n",
        "    for( i = 0; i < n; i++ ) {\n",
        "        h_a[i] = 1;\n",
        "        h_b[i] = 1;\n",
        "    }\n",
        "\n",
        "    # // Copy host vectors to device\n",
        "    cudaMemcpy( d_a, h_a, bytes, cudaMemcpyHostToDevice);\n",
        "    cudaMemcpy( d_b, h_b, bytes, cudaMemcpyHostToDevice);\n",
        "\n",
        "    int blockSize, gridSize;\n",
        "\n",
        "    # // Number of threads in each thread block\n",
        "    blockSize = 1024;\n",
        "\n",
        "    # // Number of thread blocks in grid\n",
        "    gridSize = (int)ceil((float)n/blockSize);\n",
        "\n",
        "    # // Execute the kernel\n",
        "    vecAdd<<<gridSize, blockSize>>>(d_a, d_b, d_c, n);\n",
        "\n",
        "    # // Copy array back to host\n",
        "    cudaMemcpy( h_c, d_c, bytes, cudaMemcpyDeviceToHost );\n",
        "\n",
        "    # // Sum up vector c and print result divided by n, this should equal 1 within error\n",
        "    double sum = 0;\n",
        "    for(i=0; i<n; i++)\n",
        "        sum += h_c[i];\n",
        "    printf(\"Vector additon: %f\\n\", sum);\n",
        "\n",
        "    # // Release device memory\n",
        "    cudaFree(d_a);\n",
        "    cudaFree(d_b);\n",
        "    cudaFree(d_c);\n",
        "\n",
        "    # // Release host memory\n",
        "    free(h_a);\n",
        "    free(h_b);\n",
        "    free(h_c);\n",
        "\n",
        "    return 0;\n",
        "}"
      ],
      "metadata": {
        "colab": {
          "base_uri": "https://localhost:8080/"
        },
        "id": "LfJ054QCunxR",
        "outputId": "5cd6daae-aec7-4023-e404-09cbf6226f1a"
      },
      "execution_count": 13,
      "outputs": [
        {
          "output_type": "stream",
          "name": "stdout",
          "text": [
            "Vector additon: 2000000.000000\n",
            "\n"
          ]
        }
      ]
    }
  ]
}